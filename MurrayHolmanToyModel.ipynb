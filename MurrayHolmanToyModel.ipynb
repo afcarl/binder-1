{
 "cells": [
  {
   "cell_type": "code",
   "execution_count": 1,
   "metadata": {
    "collapsed": false
   },
   "outputs": [],
   "source": [
    "from sympy import diff, lambdify, symbols, sqrt, cos\n",
    "import numpy as np\n",
    "import rebound\n",
    "from scipy.integrate import odeint\n",
    "from sympy import init_printing\n",
    "init_printing()\n",
    "%matplotlib inline\n",
    "import matplotlib.pyplot as plt\n",
    "import ipywidgets as widgets\n",
    "from ipywidgets import FloatSlider"
   ]
  },
  {
   "cell_type": "code",
   "execution_count": 2,
   "metadata": {
    "collapsed": false
   },
   "outputs": [],
   "source": [
    "gamma, eta, Lambda, I, psi, phi = symbols(\"gamma, eta, Lambda, I, psi, phi\")\n",
    "H = Lambda**2/2 + gamma*I - cos(psi) - eta*cos(psi - phi)"
   ]
  },
  {
   "cell_type": "code",
   "execution_count": 3,
   "metadata": {
    "collapsed": false
   },
   "outputs": [
    {
     "data": {
      "image/png": "[encoded data removed]",
      "text/latex": [
       "$$I \\gamma + \\frac{\\Lambda^{2}}{2} - \\eta \\cos{\\left (\\phi - \\psi \\right )} - \\cos{\\left (\\psi \\right )}$$"
      ],
      "text/plain": [
       "       2                        \n",
       "      Λ                         \n",
       "I⋅γ + ── - η⋅cos(φ - ψ) - cos(ψ)\n",
       "      2                         "
      ]
     },
     "execution_count": 3,
     "metadata": {},
     "output_type": "execute_result"
    }
   ],
   "source": [
    "H"
   ]
  },
  {
   "cell_type": "markdown",
   "metadata": {},
   "source": [
    "This is what I get for the Hamiltonian 5 if we drop the $I^2$ term, nondimensionalize the actions by the width of the $\\cos{\\psi}$ resonance, $\\Delta\\Lambda = \\left(\\frac{\\mu D}{A}\\right)^{1/2}$ and the time through $t' = \\omega t$, with $\\omega$ the frequency of small oscillations in the $\\cos(\\psi)$ resonance, $\\omega = \\left(\\mu D A \\right)^{1/2}$.  This cuts the number of parameters in half and should make it easier to see what's going on.  The new parameters are related to the ones in Murray & Holman (1997) as $\\gamma = \\left( \\frac{\\mu B^2}{D A} \\right)^{1/2} \\approx K^{-1/2}$, where K is the stochasticity parameter and $\\eta = \\frac{E}{D} \\approx 1$."
   ]
  },
  {
   "cell_type": "markdown",
   "metadata": {},
   "source": [
    "# Calculate Hamilton's equations symbolically"
   ]
  },
  {
   "cell_type": "code",
   "execution_count": 4,
   "metadata": {
    "collapsed": false
   },
   "outputs": [],
   "source": [
    "var = (psi, phi, Lambda, I, gamma, eta)"
   ]
  },
  {
   "cell_type": "code",
   "execution_count": 5,
   "metadata": {
    "collapsed": false
   },
   "outputs": [],
   "source": [
    "Lambdadot = lambdify(var, -diff(H, psi), 'numpy')\n",
    "Idot = lambdify(var, -diff(H, phi), 'numpy')\n",
    "psidot = lambdify(var, diff(H, Lambda), 'numpy')\n",
    "phidot = lambdify(var, diff(H, I), 'numpy')"
   ]
  },
  {
   "cell_type": "code",
   "execution_count": 6,
   "metadata": {
    "collapsed": true
   },
   "outputs": [],
   "source": [
    "def diffeq(y, t, *params):\n",
    "    psi, phi, Lambda, I = y\n",
    "    v = np.concatenate((y, params))\n",
    "    dydt = [psidot(*v), phidot(*v), Lambdadot(*v), Idot(*v)]\n",
    "    return dydt"
   ]
  },
  {
   "cell_type": "markdown",
   "metadata": {},
   "source": [
    "# A simple integration\n",
    "\n",
    "The integrate function takes a tuple with the initial conditions (in the order psi, phi, Lambda, I) and the parameters (gamma, eta) and plots psi vs Lambda."
   ]
  },
  {
   "cell_type": "code",
   "execution_count": 7,
   "metadata": {
    "collapsed": false
   },
   "outputs": [],
   "source": [
    "def wrap(val):\n",
    "    while val < -np.pi:\n",
    "        val += 2*np.pi\n",
    "    while val > np.pi:\n",
    "        val -= 2*np.pi\n",
    "    return val\n",
    "\n",
    "npwrap = np.vectorize(wrap)\n",
    "\n",
    "def integrate(y0, params):\n",
    "    times = np.linspace(0, 100, 1000)\n",
    "    sol = odeint(diffeq, y0, times, args=params)\n",
    "    solpsi = npwrap(sol[:,0])\n",
    "    solphi = npwrap(sol[:,1])\n",
    "    solLambda = sol[:,2]\n",
    "    solI = sol[:,3]\n",
    "    \n",
    "    fig, ax = plt.subplots(figsize=(15,10))\n",
    "    #ax.set_title(\"Planet Mass = {0:.1e} solar masses\".format(10**logmass), fontsize=24)\n",
    "    ax.set_xlabel(r\"$\\psi$\", fontsize=24)\n",
    "    ax.set_ylabel(r\"$\\Lambda$\", fontsize=24)\n",
    "    \n",
    "    \n",
    "    ax.plot(solpsi, solLambda, '.')\n",
    "    ax.set_aspect('equal')\n",
    "    \n",
    "    fig.show()"
   ]
  },
  {
   "cell_type": "code",
   "execution_count": 29,
   "metadata": {
    "collapsed": false
   },
   "outputs": [
    {
     "name": "stderr",
     "output_type": "stream",
     "text": [
      "/Users/dtamayo/miniconda2/envs/p3/lib/python3.5/site-packages/matplotlib/figure.py:397: UserWarning: matplotlib is currently using a non-GUI backend, so cannot show the figure\n",
      "  \"matplotlib is currently using a non-GUI backend, \"\n"
     ]
    },
    {
     "data": {
      "image/png": "[encoded data removed]",
      "text/plain": [
       "<matplotlib.figure.Figure at 0x1123b12b0>"
      ]
     },
     "metadata": {},
     "output_type": "display_data"
    }
   ],
   "source": [
    "gamma = 2.\n",
    "eta = 0.\n",
    "psi0 = 0.1\n",
    "phi0 = 0.\n",
    "Lambda0 = 0.\n",
    "I0 = 0.\n",
    "\n",
    "y0 = (psi0, phi0, Lambda0, I0)\n",
    "params = (gamma, eta)\n",
    "integrate(y0, params)"
   ]
  },
  {
   "cell_type": "markdown",
   "metadata": {},
   "source": [
    "# Make Surface of Section"
   ]
  },
  {
   "cell_type": "code",
   "execution_count": 76,
   "metadata": {
    "collapsed": true
   },
   "outputs": [],
   "source": [
    "def sign(y):\n",
    "    return mod2pi(y[1])\n",
    "\n",
    "def mod2pi(x):\n",
    "    if x>np.pi:\n",
    "        return mod2pi(x-2.*np.pi)\n",
    "    if x<-np.pi:\n",
    "        return mod2pi(x+2.*np.pi)\n",
    "    return x"
   ]
  },
  {
   "cell_type": "code",
   "execution_count": 85,
   "metadata": {
    "collapsed": false
   },
   "outputs": [],
   "source": [
    "N_points_max = 2000  # maximum number of point in our Poincare Section\n",
    "tmax=100\n",
    "def trajectory(y0, params):          \n",
    "    N_points = 0\n",
    "    crossings = np.zeros((N_points_max, 4))\n",
    "    \n",
    "    dt = 0.1\n",
    "    dt_epsilon = 0.001\n",
    "    \n",
    "    t=0\n",
    "    y=y0\n",
    "    s = sign(y)\n",
    "    while t < tmax and N_points < N_points_max:\n",
    "        oldt = t      \n",
    "        y = odeint(diffeq, y, [oldt, oldt+dt], args=params)[1] # take the second state at oldt+dt\n",
    "        t = oldt+dt\n",
    "        snew = sign(y)\n",
    "        if s < 0. and snew > 0.: # section crossed\n",
    "            leftt = oldt\n",
    "            rightt = t\n",
    "            while (rightt - leftt > dt_epsilon):\n",
    "                midt = (leftt+rightt)/2.\n",
    "                y = odeint(diffeq, y, [t, midt], args=params)[1] # take the second state at t+dt\n",
    "                t = midt\n",
    "                smid = sign(y)\n",
    "                if smid*s > 0.: # crossing happened after midt\n",
    "                    leftt = midt\n",
    "                else:\n",
    "                    rightt = midt\n",
    "            # Crossing found to within dt_epsilon\n",
    "            crossings[N_points] = [mod2pi(y[0]), mod2pi(y[1]), y[2], y[3]]\n",
    "            N_points += 1\n",
    "            y = odeint(diffeq, y, [t, t+dt], args=params)[1] # move past crossing\n",
    "            t = t+dt\n",
    "        s = snew\n",
    "    \n",
    "    return crossings"
   ]
  },
  {
   "cell_type": "markdown",
   "metadata": {},
   "source": [
    "# Surface of Section\n",
    "\n",
    "Set the gamma and eta parameters (same as in Hamiltonian above).  Set initial value I0.  Choose how to populate the surface by sampling values of Lambda (that's what the for loops below do)"
   ]
  },
  {
   "cell_type": "code",
   "execution_count": 96,
   "metadata": {
    "collapsed": false
   },
   "outputs": [
    {
     "data": {
      "text/plain": [
       "<matplotlib.text.Text at 0x113fe3b00>"
      ]
     },
     "execution_count": 96,
     "metadata": {},
     "output_type": "execute_result"
    },
    {
     "data": {
      "image/png": "[encoded data removed]",
      "text/plain": [
       "<matplotlib.figure.Figure at 0x113230d68>"
      ]
     },
     "metadata": {},
     "output_type": "display_data"
    }
   ],
   "source": [
    "gamma = 5.\n",
    "eta = 0.9\n",
    "params = (gamma, eta)\n",
    "\n",
    "psi0 = 0\n",
    "phi0 = 0\n",
    "Lambda0 = 1\n",
    "I0 = 0.01\n",
    "\n",
    "%matplotlib inline\n",
    "import matplotlib.pyplot as plt\n",
    "fig, ax = plt.subplots(figsize=(15,10))\n",
    "for L in np.linspace(0.2, 2, 4, endpoint=True):\n",
    "    y0 = (psi0, phi0, L, I0) # populate section with trajectories with different Lambda\n",
    "    crossings = trajectory(y0, params)\n",
    "    ax.plot(crossings[:,0], crossings[:,2], '.b') # 0=psi, 1=phi, 2=Lambda, 3=I\n",
    "    \n",
    "for L in np.linspace(gamma+0.2, gamma+2, 4, endpoint=True):\n",
    "    y0 = (psi0, phi0, L, I0) # populate section with trajectories with different Lambda\n",
    "    crossings = trajectory(y0, params)\n",
    "    ax.plot(crossings[:,0], crossings[:,2], '.b') # 0=psi, 1=phi, 2=Lambda, 3=I\n",
    "    \n",
    "for L in np.linspace(2.5, gamma-2, 2, endpoint=True):\n",
    "    y0 = (psi0, phi0, L, I0) # populate section with trajectories with different Lambda\n",
    "    crossings = trajectory(y0, params)\n",
    "    ax.plot(crossings[:,0], crossings[:,2], '.b') # 0=psi, 1=phi, 2=Lambda, 3=I\n",
    "\n",
    "ax.set_xlabel(r\"$\\psi$\", fontsize=24)\n",
    "ax.set_ylabel(r\"$\\Lambda$\", fontsize=24)"
   ]
  },
  {
   "cell_type": "code",
   "execution_count": null,
   "metadata": {
    "collapsed": true
   },
   "outputs": [],
   "source": [
    "gamma = 5.\n",
    "eta = 0.9\n",
    "params = (gamma, eta)\n",
    "\n",
    "psi0 = 0\n",
    "phi0 = 0\n",
    "Lambda0 = 1\n",
    "I0 = 0.01\n",
    "\n",
    "%matplotlib inline\n",
    "import matplotlib.pyplot as plt\n",
    "fig, ax = plt.subplots(figsize=(15,10))\n",
    "for I in np.linspace(0.2, 2, 4, endpoint=True):\n",
    "    y0 = (psi0, phi0, L, I0) # populate section with trajectories with different Lambda\n",
    "    crossings = trajectory(y0, params)\n",
    "    ax.plot(crossings[:,0], crossings[:,2], '.b') # 0=psi, 1=phi, 2=Lambda, 3=I\n",
    "    \n",
    "for L in np.linspace(gamma+0.2, gamma+2, 4, endpoint=True):\n",
    "    y0 = (psi0, phi0, L, I0) # populate section with trajectories with different Lambda\n",
    "    crossings = trajectory(y0, params)\n",
    "    ax.plot(crossings[:,0], crossings[:,2], '.b') # 0=psi, 1=phi, 2=Lambda, 3=I\n",
    "    \n",
    "for L in np.linspace(2.5, gamma-2, 2, endpoint=True):\n",
    "    y0 = (psi0, phi0, L, I0) # populate section with trajectories with different Lambda\n",
    "    crossings = trajectory(y0, params)\n",
    "    ax.plot(crossings[:,0], crossings[:,2], '.b') # 0=psi, 1=phi, 2=Lambda, 3=I\n",
    "\n",
    "ax.set_xlabel(r\"$\\psi$\", fontsize=24)\n",
    "ax.set_ylabel(r\"$\\Lambda$\", fontsize=24)"
   ]
  }
 ],
 "metadata": {
  "kernelspec": {
   "display_name": "Python 3",
   "language": "python",
   "name": "python3"
  },
  "language_info": {
   "codemirror_mode": {
    "name": "ipython",
    "version": 3
   },
   "file_extension": ".py",
   "mimetype": "text/x-python",
   "name": "python",
   "nbconvert_exporter": "python",
   "pygments_lexer": "ipython3",
   "version": "3.5.1"
  }
 },
 "nbformat": 4,
 "nbformat_minor": 0
}
