{
 "cells": [
  {
   "cell_type": "code",
   "execution_count": 76,
   "metadata": {
    "collapsed": false
   },
   "outputs": [],
   "source": [
    "from sympy import diff, lambdify, symbols, sqrt, cos\n",
    "import numpy as np\n",
    "import rebound\n",
    "from scipy.integrate import odeint\n",
    "from sympy import init_printing\n",
    "init_printing()\n",
    "%matplotlib inline\n",
    "import matplotlib.pyplot as plt\n",
    "import ipywidgets as widgets\n",
    "from ipywidgets import FloatSlider"
   ]
  },
  {
   "cell_type": "code",
   "execution_count": 77,
   "metadata": {
    "collapsed": false
   },
   "outputs": [],
   "source": [
    "gamma, eta, Gamma, I, psi, phi = symbols(\"gamma, eta, Gamma, I, psi, phi\")\n",
    "H = Gamma**2/2 + gamma*I - cos(psi) - eta*cos(psi - phi)"
   ]
  },
  {
   "cell_type": "code",
   "execution_count": 78,
   "metadata": {
    "collapsed": false
   },
   "outputs": [
    {
     "data": {
      "image/png": "[encoded data removed]",
      "text/latex": [
       "$$\\frac{\\Gamma^{2}}{2} + I \\gamma - \\eta \\cos{\\left (\\phi - \\psi \\right )} - \\cos{\\left (\\psi \\right )}$$"
      ],
      "text/plain": [
       " 2                              \n",
       "Γ                               \n",
       "── + I⋅γ - η⋅cos(φ - ψ) - cos(ψ)\n",
       "2                               "
      ]
     },
     "execution_count": 78,
     "metadata": {},
     "output_type": "execute_result"
    }
   ],
   "source": [
    "H"
   ]
  },
  {
   "cell_type": "markdown",
   "metadata": {},
   "source": [
    "This is what I get for the Hamiltonian 5 if we drop the $I^2$ term, nondimensionalize the actions by the width of the $\\cos{\\psi}$ resonance, $\\Delta\\Gamma = \\left(\\frac{\\mu D}{A}\\right)^{1/2}$ and the time through $t' = \\omega t$, with $\\omega$ the frequency of small oscillations in the $\\cos(\\psi)$ resonance, $\\omega = \\left(\\mu D A \\right)^{1/2}$.  This cuts the number of parameters in half and should make it easier to see what's going on.  The new parameters are related to the ones in Murray & Holman (1997) as $\\gamma = \\left( \\frac{\\mu B^2}{D A} \\right)^{1/2} \\approx K^{-1/2}$, where K is the stochasticity parameter and $\\eta = \\frac{E}{D} \\approx 1$."
   ]
  },
  {
   "cell_type": "markdown",
   "metadata": {},
   "source": [
    "# Calculate Hamilton's equations symbolically"
   ]
  },
  {
   "cell_type": "code",
   "execution_count": 79,
   "metadata": {
    "collapsed": false
   },
   "outputs": [],
   "source": [
    "var = (psi, phi, Gamma, I, gamma, eta)"
   ]
  },
  {
   "cell_type": "code",
   "execution_count": 80,
   "metadata": {
    "collapsed": false
   },
   "outputs": [],
   "source": [
    "Gammadot = lambdify(var, -diff(H, psi), 'numpy')\n",
    "Idot = lambdify(var, -diff(H, phi), 'numpy')\n",
    "psidot = lambdify(var, diff(H, Gamma), 'numpy')\n",
    "phidot = lambdify(var, diff(H, I), 'numpy')"
   ]
  },
  {
   "cell_type": "code",
   "execution_count": 81,
   "metadata": {
    "collapsed": true
   },
   "outputs": [],
   "source": [
    "def diffeq(y, t, *params):\n",
    "    psi, phi, Gamma, I = y\n",
    "    v = np.concatenate((y, params))\n",
    "    dydt = [psidot(*v), phidot(*v), Gammadot(*v), Idot(*v)]\n",
    "    return dydt"
   ]
  },
  {
   "cell_type": "markdown",
   "metadata": {},
   "source": [
    "# A simple integration\n",
    "\n",
    "The integrate function takes a tuple with the initial conditions (in the order psi, phi, Gamma, I) and the parameters (gamma, eta) and plots psi vs Gamma."
   ]
  },
  {
   "cell_type": "code",
   "execution_count": 84,
   "metadata": {
    "collapsed": false
   },
   "outputs": [],
   "source": [
    "def wrap(val):\n",
    "    while val < -np.pi:\n",
    "        val += 2*np.pi\n",
    "    while val > np.pi:\n",
    "        val -= 2*np.pi\n",
    "    return val\n",
    "\n",
    "npwrap = np.vectorize(wrap)\n",
    "\n",
    "def integrate(y0, params):\n",
    "    times = np.linspace(0, 100, 1000)\n",
    "    sol = odeint(diffeq, y0, times, args=params)\n",
    "    solpsi = npwrap(sol[:,0])\n",
    "    solphi = npwrap(sol[:,1])\n",
    "    solGamma = sol[:,2]\n",
    "    solI = sol[:,3]\n",
    "    \n",
    "    fig, ax = plt.subplots(figsize=(15,10))\n",
    "    #ax.set_title(\"Planet Mass = {0:.1e} solar masses\".format(10**logmass), fontsize=24)\n",
    "    ax.set_xlabel(r\"$\\psi$\", fontsize=24)\n",
    "    ax.set_ylabel(r\"$\\Gamma$\", fontsize=24)\n",
    "    \n",
    "    \n",
    "    ax.plot(solpsi, solGamma, '.')\n",
    "    ax.set_aspect('equal')\n",
    "    \n",
    "    fig.show()"
   ]
  },
  {
   "cell_type": "code",
   "execution_count": 86,
   "metadata": {
    "collapsed": false
   },
   "outputs": [
    {
     "name": "stderr",
     "output_type": "stream",
     "text": [
      "/Users/dtamayo/miniconda2/envs/p3/lib/python3.5/site-packages/matplotlib/figure.py:397: UserWarning: matplotlib is currently using a non-GUI backend, so cannot show the figure\n",
      "  \"matplotlib is currently using a non-GUI backend, \"\n"
     ]
    },
    {
     "data": {
      "image/png": "[encoded data removed]",
      "text/plain": [
       "<matplotlib.figure.Figure at 0x113ebaf28>"
      ]
     },
     "metadata": {},
     "output_type": "display_data"
    }
   ],
   "source": [
    "gamma = 2.\n",
    "eta = 0.9\n",
    "psi0 = 0.0\n",
    "phi0 = 0.\n",
    "Gamma0 = 0.\n",
    "I0 = 0.\n",
    "\n",
    "integrate((psi0, phi0, Gamma0, I0), (gamma, eta))"
   ]
  }
 ],
 "metadata": {
  "kernelspec": {
   "display_name": "Python 3",
   "language": "python",
   "name": "python3"
  },
  "language_info": {
   "codemirror_mode": {
    "name": "ipython",
    "version": 3
   },
   "file_extension": ".py",
   "mimetype": "text/x-python",
   "name": "python",
   "nbconvert_exporter": "python",
   "pygments_lexer": "ipython3",
   "version": "3.5.1"
  }
 },
 "nbformat": 4,
 "nbformat_minor": 0
}
