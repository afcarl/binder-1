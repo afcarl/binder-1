{
 "cells": [
  {
   "cell_type": "markdown",
   "metadata": {},
   "source": [
    "# Based on Carl Murrays DisturbingFunction.nb Mathematica notebook"
   ]
  },
  {
   "cell_type": "code",
   "execution_count": 3,
   "metadata": {
    "collapsed": true
   },
   "outputs": [],
   "source": [
    "import math\n",
    "import numpy as np\n",
    "\n",
    "def LaplaceCoefficient(s,j,a,n):\n",
    "    j = abs(j)\n",
    "    outside = 1\n",
    "    for k in range(j):\n",
    "        outside *= s+k\n",
    "    outside *= 2./math.factorial(j)*a**(j-n)\n",
    "    cterm = 1\n",
    "    cbterm = 1\n",
    "    for k in range(n):\n",
    "        cbterm *= (j-k)\n",
    "    csum = cbterm\n",
    "    i=1\n",
    "    while cbterm > np.finfo(float).eps or cbterm == 0:\n",
    "        cterm = cterm*(s+i-1)*(s+j+i-1)/i/(j+i)*a**2\n",
    "        cbterm = cterm\n",
    "        for k in range(n):\n",
    "            cbterm *= j+2*i-k\n",
    "        csum += cbterm\n",
    "        i+=1\n",
    "    return outside*csum"
   ]
  },
  {
   "cell_type": "code",
   "execution_count": 5,
   "metadata": {
    "collapsed": false
   },
   "outputs": [
    {
     "data": {
      "text/plain": [
       "6.553431964963426"
      ]
     },
     "execution_count": 5,
     "metadata": {},
     "output_type": "execute_result"
    }
   ],
   "source": [
    "LaplaceCoefficient(0.5, 0, 0.7, 2)"
   ]
  },
  {
   "cell_type": "code",
   "execution_count": null,
   "metadata": {
    "collapsed": true
   },
   "outputs": [],
   "source": []
  }
 ],
 "metadata": {
  "kernelspec": {
   "display_name": "Python 3",
   "language": "python",
   "name": "python3"
  },
  "language_info": {
   "codemirror_mode": {
    "name": "ipython",
    "version": 3
   },
   "file_extension": ".py",
   "mimetype": "text/x-python",
   "name": "python",
   "nbconvert_exporter": "python",
   "pygments_lexer": "ipython3",
   "version": "3.5.1"
  }
 },
 "nbformat": 4,
 "nbformat_minor": 0
}
